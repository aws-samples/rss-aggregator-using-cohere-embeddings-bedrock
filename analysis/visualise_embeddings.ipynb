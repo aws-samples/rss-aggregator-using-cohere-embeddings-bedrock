{
 "cells": [
  {
   "cell_type": "markdown",
   "metadata": {},
   "source": [
    "# Visualise the Embeddings in 2D\n",
    "\n",
    "In order to visualise how the categorisation task works, we will first show the embedding clusters. We will reduce the dimensionality of the embeddings down so that we can visualise them on a 2D Scatter plot. "
   ]
  },
  {
   "cell_type": "code",
   "execution_count": 22,
   "metadata": {},
   "outputs": [],
   "source": [
    "import pandas as pd\n",
    "import numpy as np\n",
    "from ast import literal_eval\n",
    "\n",
    "# We convert the topic embeddings - gathered from COHERE, and convert them into a matrix. \n",
    "df = pd.read_csv('./topic_embeddings.csv', sep=',', header=None)\n",
    "matrix =  np.array(df[2].apply(literal_eval).to_list())\n"
   ]
  },
  {
   "cell_type": "markdown",
   "metadata": {},
   "source": [
    "Once we have converted the embeddings into a numpy matrix, we will then reduce the cardinality of them to 2, which will allow us to visualise them. We do this using t-distributed stochastic neighbor embedding, which is an unsupervised way to reduce dimensionality. "
   ]
  },
  {
   "cell_type": "code",
   "execution_count": null,
   "metadata": {},
   "outputs": [],
   "source": []
  },
  {
   "cell_type": "code",
   "execution_count": null,
   "metadata": {},
   "outputs": [],
   "source": [
    "import umap.umap_ as umap\n",
    "\n",
    "umap_instance = umap.UMAP(n_components=2, n_neighbors=10, random_state=42)\n",
    "vis_dims = umap_instance.fit_transform(matrix)\n",
    "vis_dims.shape"
   ]
  },
  {
   "cell_type": "markdown",
   "metadata": {},
   "source": [
    "We can then visualise this in a 2-Dimensional space. We can see how related topics are clustered together. This is a simplified representation of this data, in reality a lot of these topics will intercept in multiple dimensions. However, this simplified representation allows us to visualise how these topics are similarly themed. "
   ]
  },
  {
   "cell_type": "code",
   "execution_count": null,
   "metadata": {},
   "outputs": [],
   "source": [
    "import matplotlib.pyplot as plt\n",
    "import matplotlib.patches as mpatches\n",
    "\n",
    "colors = [\"red\", \"darkorange\", \"gold\", \"turquoise\", \"darkgreen\", \"yellow\", \"black\"]\n",
    "topic_names = df[0].unique().tolist()\n",
    "topic_to_color = dict(zip(topic_names, colors))\n",
    "color_indices = df[0].values\n",
    "\n",
    "x = [x for x,_ in vis_dims]\n",
    "y = [y for _,y in vis_dims]\n",
    "\n",
    "fig, ax = plt.subplots()\n",
    "ax.scatter(x, y, color=[topic_to_color[i] for i in df[0]], alpha=0.5)\n",
    "ax.axis(\"off\")\n",
    "\n",
    "for idx, arr in enumerate(vis_dims):\n",
    "    x,y = vis_dims[idx]\n",
    "    tag = df[1][idx].replace(\"this is about \", \"\").lower()\n",
    "    ax.annotate(tag, (x+ 0.05, y), size=5)\n",
    "\n",
    "handles = [mpatches.Patch(color = value, label = key) for (key, value) in topic_to_color.items()]\n",
    "legend = ax.legend(handles=handles, prop={'size': 6})"
   ]
  },
  {
   "cell_type": "markdown",
   "metadata": {},
   "source": [
    "We can use this data to cluster some related information. For instance, let's have a look at an article published by ArsTechnica: \n",
    "\n",
    "### ***The climate is changing so fast that we haven’t seen how bad extreme weather could get: Decades-old statistics no longer represent what is possible in the present day.***\n",
    "\n",
    "We have also embedded this story, and so we can visualise where it would sit on the above 2d scatter plot. Doing so will expose some information about what content this story contains. \n"
   ]
  },
  {
   "cell_type": "code",
   "execution_count": null,
   "metadata": {},
   "outputs": [],
   "source": [
    "article_df = pd.read_csv('./article_embedding.csv', header=None)\n",
    "\n",
    "topic_list = pd.concat([df[2].apply(literal_eval), article_df[1].apply(literal_eval)])\n",
    "\n",
    "topic_and_article_matrix = np.array(topic_list.to_list())\n",
    "topic_and_article_dims = umap_instance.fit_transform(topic_and_article_matrix)\n",
    "\n",
    "topic_dims = topic_and_article_dims[:-1]\n",
    "article_dims = topic_and_article_dims[-1:]\n",
    "\n",
    "# Plot all the topics again. \n",
    "x = [x for x,_ in topic_dims]\n",
    "y = [y for _,y in topic_dims]\n",
    "\n",
    "fig, ax = plt.subplots()\n",
    "ax.scatter(x, y, color=[topic_to_color[i] for i in df[0]], alpha=0.5)\n",
    "ax.axis(\"off\")\n",
    "\n",
    "article_x = [x for x,_ in article_dims]\n",
    "article_y = [y for _,y in article_dims]\n",
    "\n",
    "for idx, arr in enumerate(topic_dims):\n",
    "    x,y = topic_dims[idx]\n",
    "    tag = df[1][idx].replace(\"this is about \", \"\").lower()\n",
    "    ax.annotate(tag, (x +0.05, y), size=5)\n",
    "\n",
    "ax.annotate(\"ArsTechnica Article\", (article_x[0], article_y[0]), size=5)\n",
    "scatterplot = ax.scatter(article_x, article_y, marker='x', color='red', s=100)\n",
    "\n",
    "handles = [mpatches.Patch(color = value, label = key) for (key, value) in topic_to_color.items()]\n"
   ]
  },
  {
   "cell_type": "markdown",
   "metadata": {},
   "source": [
    "Due to the articles topic, it is plotted closely to both the Climate Science, and Climate policy topic. Hopefully this gives you an idea of how these properties might be used in order to categorise stories like the above into different categories. "
   ]
  }
 ],
 "metadata": {
  "kernelspec": {
   "display_name": ".venv",
   "language": "python",
   "name": "python3"
  },
  "language_info": {
   "codemirror_mode": {
    "name": "ipython",
    "version": 3
   },
   "file_extension": ".py",
   "mimetype": "text/x-python",
   "name": "python",
   "nbconvert_exporter": "python",
   "pygments_lexer": "ipython3",
   "version": "3.12.3"
  }
 },
 "nbformat": 4,
 "nbformat_minor": 2
}
