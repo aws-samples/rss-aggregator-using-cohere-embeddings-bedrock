{
 "cells": [
  {
   "cell_type": "markdown",
   "metadata": {},
   "source": [
    "# Visualising Embeddings: Paris, Berlin, Germany, France.\n",
    "\n",
    "In the blog post I mention the relationship between the embeddings of Paris, Berlin, Germany, and France. I wanted to demonstrate this visually using Python. "
   ]
  },
  {
   "cell_type": "code",
   "execution_count": 1,
   "metadata": {},
   "outputs": [],
   "source": [
    "import json\n",
    "import boto3\n",
    "\n",
    "client = boto3.client(service_name=\"bedrock-runtime\")\n",
    "raw_texts = ['paris', 'berlin', 'germany', 'france']\n",
    "model_id = 'cohere.embed-english-v3',\n",
    "input_type = 'clustering'\n",
    "\n",
    "response = client.invoke_model(modelId='cohere.embed-english-v3', body=json.dumps({ \"texts\": raw_texts, \"input_type\": input_type}))\n",
    "\n",
    "embeddings = json.loads(response[\"body\"].read())['embeddings']"
   ]
  },
  {
   "cell_type": "markdown",
   "metadata": {},
   "source": [
    "Once we have these embeddings, we want to reduce their dimensionality down to 2, so that we can visualise them in a 2d space. We do this by using UMAP (Uniform Manifold Approximation and Projection for Dimension Reduction). This is a dimension reduction technique, that can take a highly dimensional set of vectors, and reduce them down while retaining some of the structural similiarities. "
   ]
  },
  {
   "cell_type": "code",
   "execution_count": null,
   "metadata": {},
   "outputs": [],
   "source": [
    "import umap.umap_ as umap\n",
    "import numpy as np\n",
    "\n",
    "matrix =  np.array(embeddings)\n",
    "umap_instance = umap.UMAP(n_components=2, random_state=42)\n",
    "vis_dims = umap_instance.fit_transform(matrix)\n",
    "vis_dims.shape"
   ]
  },
  {
   "cell_type": "code",
   "execution_count": null,
   "metadata": {},
   "outputs": [],
   "source": [
    "import matplotlib.pyplot as plt\n",
    "import matplotlib.patches as mpatches\n",
    "\n",
    "def drawCountryCapitalDiagram(): \n",
    "    colors = [\"red\", \"red\", \"gold\", \"gold\"]\n",
    "    topic_to_color = dict(zip(raw_texts, colors))\n",
    "\n",
    "    x = [x for x,_ in vis_dims]\n",
    "    y = [y for _,y in vis_dims]\n",
    "\n",
    "    fig, ax = plt.subplots()\n",
    "\n",
    "    ax.scatter(x, y, color=[topic_to_color[i] for i in topic_to_color], alpha=0.5)\n",
    "\n",
    "    for idx, arr in enumerate(vis_dims):\n",
    "        x,y = vis_dims[idx]\n",
    "        ax.annotate(raw_texts[idx], (x, y + .03), size=8)\n",
    "\n",
    "        handles = [mpatches.Patch(color = 'gold', label = 'country'), mpatches.Patch(color = 'red', label = 'capital')]\n",
    "        legend = ax.legend(handles=handles, prop={'size': 8})\n",
    "    return fig, ax\n",
    "\n",
    "fig, ax = drawCountryCapitalDiagram()"
   ]
  },
  {
   "cell_type": "markdown",
   "metadata": {},
   "source": [
    "We can already see the similarities between the countries, and their capitals here. The distance and direction between the Country and it's capital is similar between France and Paris, and Germany and Berlin. "
   ]
  },
  {
   "cell_type": "code",
   "execution_count": null,
   "metadata": {},
   "outputs": [],
   "source": [
    "fig, ax = drawCountryCapitalDiagram()\n",
    "(paris, berlin, germany, france) = vis_dims\n",
    "arr1 = ax.arrow(france[0], france[1], paris[0] - france[0], paris[1] - france[1])\n",
    "arr2 = ax.arrow(germany[0], germany[1], berlin[0] - germany[0], berlin[1] - germany[1])\n"
   ]
  },
  {
   "cell_type": "markdown",
   "metadata": {},
   "source": [
    "So now we will demonstrate some of the properties of this by demonstrating the operation `paris - france + germany` We should see the output as close to Berlin. \n",
    "\n",
    "This is because the embeddings capture the relationships between the words 'Paris' and 'France,' and 'Germany' and 'Berlin' – specifically, that Paris and Berlin are both capital cities of their respective countries. When we subtract 'France' from 'Paris,' we are essentially removing the country semantics, and the resulting vector represents the concept of 'capital city.' By then adding 'Germany' to this vector we are left with something closely resembling 'Berlin,' the capital of Germany."
   ]
  },
  {
   "cell_type": "code",
   "execution_count": null,
   "metadata": {},
   "outputs": [],
   "source": [
    "# Here we operate on the 2D embeddings that we produced earlier\n",
    "fig, ax = drawCountryCapitalDiagram()\n",
    "\n",
    "operated_x = paris[0] - france[0] + germany[0];\n",
    "operated_y = paris[1] - france[1] + germany[1];\n",
    "\n",
    "\n",
    "paris_min_france = paris - (france-paris)\n",
    "paris_min_france_plus_germany = paris_min_france + (germany - paris)\n",
    "\n",
    "ax.scatter(paris_min_france[0], paris_min_france[1], marker='x', color='red', )\n",
    "ax.scatter(paris_min_france_plus_germany[0], paris_min_france_plus_germany[1], marker='x', color='red', )\n",
    "ax.annotate('paris - france', (paris_min_france[0], paris_min_france[1] + .03), size=8)\n",
    "ax.annotate('paris - france + germany', (paris_min_france_plus_germany[0], paris_min_france_plus_germany[1] - .03), size=8)\n",
    "\n",
    "paris_france_arrow = ax.arrow(paris[0], paris[1], paris[0] - france[0], paris[1] - france[1])\n",
    "paris_france_germany_arrow = ax.arrow(paris_min_france[0], paris_min_france[1], germany[0] - paris[0], germany[1] - paris[1])"
   ]
  }
 ],
 "metadata": {
  "kernelspec": {
   "display_name": ".venv",
   "language": "python",
   "name": "python3"
  },
  "language_info": {
   "codemirror_mode": {
    "name": "ipython",
    "version": 3
   },
   "file_extension": ".py",
   "mimetype": "text/x-python",
   "name": "python",
   "nbconvert_exporter": "python",
   "pygments_lexer": "ipython3",
   "version": "3.12.3"
  }
 },
 "nbformat": 4,
 "nbformat_minor": 2
}
